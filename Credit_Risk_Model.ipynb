{
 "cells": [
  {
   "cell_type": "code",
   "execution_count": null,
   "metadata": {},
   "outputs": [],
   "source": [
    "import pandas as pd\n",
    "import numpy as np\n",
    "import matplotlib.pyplot as plt\n",
    "\n",
    "%matplotlib inline\n",
    "#%%#\n",
    "# read data into a DataFrame\n",
    "lend_df = pd.read_csv(r'C:\\Users\\Tejinder Wadhwa\\Documents\\Group Project\\Python\\Lending_Data.csv', header = 0, delimiter='\\t')"
   ]
  },
  {
   "cell_type": "code",
   "execution_count": null,
   "metadata": {},
   "outputs": [],
   "source": [
    "pd.set_option('display.max_columns', None)\n",
    "pd.set_option('display.max_rows', None)\n",
    "lend_df.head()\n",
    "lend_df.shape"
   ]
  },
  {
   "cell_type": "code",
   "execution_count": null,
   "metadata": {},
   "outputs": [],
   "source": [
    "lend_df.dtypes"
   ]
  },
  {
   "cell_type": "markdown",
   "metadata": {},
   "source": [
    "# Check for Missing Values"
   ]
  },
  {
   "cell_type": "code",
   "execution_count": null,
   "metadata": {},
   "outputs": [],
   "source": [
    "lend_df.isnull().sum()"
   ]
  },
  {
   "cell_type": "code",
   "execution_count": null,
   "metadata": {},
   "outputs": [],
   "source": [
    "lend_df.to_csv(r'C:\\Users\\Tejinder Wadhwa\\Documents\\Group Project\\Python\\Lending_Data_rev.csv')"
   ]
  },
  {
   "cell_type": "code",
   "execution_count": null,
   "metadata": {},
   "outputs": [],
   "source": [
    "lend_df = lend_df.drop(columns=[\"id\",\"member_id\"])"
   ]
  },
  {
   "cell_type": "code",
   "execution_count": null,
   "metadata": {
    "scrolled": false
   },
   "outputs": [],
   "source": [
    "lend_df.isnull().sum()"
   ]
  },
  {
   "cell_type": "code",
   "execution_count": null,
   "metadata": {},
   "outputs": [],
   "source": [
    "lend_df = lend_df.drop(columns=[\"annual_inc_joint\",\"dti_joint\",\"verification_status_joint\",\"open_acc_6m\",\"open_il_6m\",\"open_il_12m\",\"open_il_24m\",\"mths_since_rcnt_il\",\"total_bal_il\",\"il_util\",\"open_rv_12m\",\"open_rv_24m\",\"max_bal_bc\",\"all_util\",\"inq_fi\",\"total_cu_tl\",\"inq_last_12m\"])"
   ]
  },
  {
   "cell_type": "code",
   "execution_count": null,
   "metadata": {
    "scrolled": true
   },
   "outputs": [],
   "source": [
    "lend_df.isnull().sum()"
   ]
  },
  {
   "cell_type": "markdown",
   "metadata": {},
   "source": [
    "#Dropping \"desc\" variable as it is a text only vairable"
   ]
  },
  {
   "cell_type": "code",
   "execution_count": null,
   "metadata": {},
   "outputs": [],
   "source": [
    "lend_df = lend_df.drop(columns=\"desc\")"
   ]
  },
  {
   "cell_type": "code",
   "execution_count": null,
   "metadata": {},
   "outputs": [],
   "source": [
    "lend_df.shape"
   ]
  },
  {
   "cell_type": "code",
   "execution_count": null,
   "metadata": {},
   "outputs": [],
   "source": [
    "lend_df[\"total_rev_hi_lim\"].head()"
   ]
  },
  {
   "cell_type": "code",
   "execution_count": null,
   "metadata": {},
   "outputs": [],
   "source": [
    "lend_df = lend_df.drop(columns=[\"mths_since_last_record\", \"mths_since_last_major_derog\"])"
   ]
  },
  {
   "cell_type": "code",
   "execution_count": null,
   "metadata": {},
   "outputs": [],
   "source": [
    "lend_df.shape"
   ]
  },
  {
   "cell_type": "code",
   "execution_count": null,
   "metadata": {},
   "outputs": [],
   "source": [
    "lend_df.isnull().sum()"
   ]
  },
  {
   "cell_type": "markdown",
   "metadata": {},
   "source": [
    "# removing columns with more thn 50% NaN"
   ]
  },
  {
   "cell_type": "code",
   "execution_count": null,
   "metadata": {},
   "outputs": [],
   "source": [
    "half_count = len(lend_df)/2\n",
    "lend_df = lend_df.dropna(thresh=half_count,axis=1) #thresh=445.5\n",
    "print(lend_df.isnull().sum())"
   ]
  },
  {
   "cell_type": "code",
   "execution_count": null,
   "metadata": {},
   "outputs": [],
   "source": [
    "lend_df.shape"
   ]
  },
  {
   "cell_type": "code",
   "execution_count": null,
   "metadata": {},
   "outputs": [],
   "source": [
    "lend_df[\"total_rev_hi_lim\"].head()"
   ]
  },
  {
   "cell_type": "markdown",
   "metadata": {},
   "source": [
    "# Fixing categorical variables with Mode values"
   ]
  },
  {
   "cell_type": "code",
   "execution_count": null,
   "metadata": {},
   "outputs": [],
   "source": [
    "colnames_md = [\"emp_length\", \"emp_title\", \"title\", \"last_pymnt_d\", \"last_credit_pull_d\"]"
   ]
  },
  {
   "cell_type": "code",
   "execution_count": null,
   "metadata": {},
   "outputs": [],
   "source": [
    "for x in colnames_md:\n",
    "    lend_df[x].fillna(lend_df[x].mode()[0], inplace=True)"
   ]
  },
  {
   "cell_type": "code",
   "execution_count": null,
   "metadata": {},
   "outputs": [],
   "source": [
    "print(lend_df.isnull().sum())"
   ]
  },
  {
   "cell_type": "markdown",
   "metadata": {},
   "source": [
    "# Fixing numerical variables with Mean values"
   ]
  },
  {
   "cell_type": "code",
   "execution_count": null,
   "metadata": {},
   "outputs": [],
   "source": [
    "colnames_mn = [\"revol_util\", \"collections_12_mths_ex_med\", \"tot_coll_amt\", \"tot_cur_bal\", \"total_rev_hi_lim\"]"
   ]
  },
  {
   "cell_type": "code",
   "execution_count": null,
   "metadata": {},
   "outputs": [],
   "source": [
    "for x in colnames_mn:\n",
    "    lend_df[x].fillna(lend_df[x].mean(), inplace=True)"
   ]
  },
  {
   "cell_type": "code",
   "execution_count": null,
   "metadata": {},
   "outputs": [],
   "source": [
    "print(lend_df.isnull().sum())"
   ]
  },
  {
   "cell_type": "code",
   "execution_count": null,
   "metadata": {},
   "outputs": [],
   "source": [
    "#print(lend_df.isnull().any(axis=1).sum()) # Missing in the entire data set"
   ]
  },
  {
   "cell_type": "code",
   "execution_count": null,
   "metadata": {
    "scrolled": true
   },
   "outputs": [],
   "source": [
    "lend_df.to_csv(r'C:\\Users\\Tejinder Wadhwa\\Documents\\Group Project\\Python\\Lending_Data_imputed.csv')"
   ]
  },
  {
   "cell_type": "code",
   "execution_count": null,
   "metadata": {},
   "outputs": [],
   "source": [
    "#print(lend_df.values[40000:40100,:])"
   ]
  },
  {
   "cell_type": "code",
   "execution_count": null,
   "metadata": {},
   "outputs": [],
   "source": [
    "lend_df.dtypes"
   ]
  },
  {
   "cell_type": "markdown",
   "metadata": {},
   "source": [
    "#Label Encoding= Converveting all Categorical text to Categorical Numeric"
   ]
  },
  {
   "cell_type": "code",
   "execution_count": null,
   "metadata": {},
   "outputs": [],
   "source": [
    "from sklearn import preprocessing\n",
    "\n",
    "le={}"
   ]
  },
  {
   "cell_type": "code",
   "execution_count": null,
   "metadata": {},
   "outputs": [],
   "source": [
    "for x in lend_df.columns[:]:\n",
    "    if (lend_df[x].dtypes == 'object'):\n",
    "        le[x]=preprocessing.LabelEncoder()\n",
    "        lend_df[x] = le[x].fit_transform(lend_df[x])\n",
    "print(\"Label encoding Complete\")\n",
    "  "
   ]
  },
  {
   "cell_type": "code",
   "execution_count": null,
   "metadata": {},
   "outputs": [],
   "source": [
    "lend_df.head()"
   ]
  },
  {
   "cell_type": "code",
   "execution_count": null,
   "metadata": {},
   "outputs": [],
   "source": [
    "lend_df.dtypes"
   ]
  },
  {
   "cell_type": "code",
   "execution_count": null,
   "metadata": {},
   "outputs": [],
   "source": [
    "lend_df.isnull().sum()"
   ]
  },
  {
   "cell_type": "code",
   "execution_count": null,
   "metadata": {},
   "outputs": [],
   "source": [
    "lend_df.shape"
   ]
  },
  {
   "cell_type": "markdown",
   "metadata": {},
   "source": [
    "# Box plot for outlier check"
   ]
  },
  {
   "cell_type": "code",
   "execution_count": null,
   "metadata": {},
   "outputs": [],
   "source": [
    "import matplotlib.pyplot as plt\n",
    "from matplotlib import pyplot\n",
    "\n",
    "%matplotlib inline\n",
    "\n",
    "lend_df.boxplot(column='funded_amnt')\n",
    "plt.show()"
   ]
  },
  {
   "cell_type": "code",
   "execution_count": null,
   "metadata": {},
   "outputs": [],
   "source": [
    "\"\"\"\n",
    "fig, axes = pyplot.subplots(ncols=8, nrows=6, figsize=(12, 5), sharey=True)\n",
    "pt = lend_df.query(\"default_ind in [0, 1]\").boxplot(by='default_ind', return_type='axes', ax=axes)\n",
    "\"\"\""
   ]
  },
  {
   "cell_type": "code",
   "execution_count": null,
   "metadata": {},
   "outputs": [],
   "source": [
    "\"\"\"\n",
    "fig, axes = pyplot.subplots(ncols=6, nrows=2, figsize=(12, 5), sharey=True)\n",
    "lend_df.boxplot(column='loan_amnt', ax=axes)\n",
    "plt.show()\n",
    "lend_df.boxplot(column='funded_amnt')\n",
    "plt.show()\n",
    "\"\"\""
   ]
  },
  {
   "cell_type": "code",
   "execution_count": null,
   "metadata": {},
   "outputs": [],
   "source": [
    "fig = plt.figure(figsize=(12,8))\n",
    "# adding multiple Axes objects  \n",
    "fig, ax_lst = plt.subplots(2, 2)  # a figure with a 2x2 grid of Axeslend_df.boxplot(column='funded_amnt')\n",
    "plt.show()"
   ]
  },
  {
   "cell_type": "code",
   "execution_count": null,
   "metadata": {},
   "outputs": [],
   "source": [
    "from pylab import *\n",
    "subplot(1,4,1)\n",
    "lend_df.boxplot(column='funded_amnt')\n",
    "\n",
    "subplot(1,4,2)\n",
    "lend_df.boxplot(column='loan_amnt')\n",
    "\n",
    "subplot(1,4,3)\n",
    "lend_df.boxplot(column='int_rate')\n",
    "\n",
    "subplot(1,4,4)\n",
    "lend_df.boxplot(column='installment')\n",
    "\n",
    "show()"
   ]
  },
  {
   "cell_type": "code",
   "execution_count": null,
   "metadata": {},
   "outputs": [],
   "source": [
    "fig = plt.figure(figsize=(10,12))\n",
    "axes = fig.subplots(nrows=2, ncols=2)\n",
    "lend_df.boxplot(column='funded_amnt', ax=axes[0, 0])\n",
    "lend_df.boxplot(column='loan_amnt', ax=axes[1, 0])\n",
    "lend_df.boxplot(column='int_rate', ax=axes[0, 1])\n",
    "lend_df.boxplot(column='installment', ax=axes[1, 1])\n",
    "plt.show()"
   ]
  },
  {
   "cell_type": "code",
   "execution_count": null,
   "metadata": {},
   "outputs": [],
   "source": [
    "fig, axes = plt.subplots(2, 2, sharex=True, sharey=True)\n",
    "lend_df.boxplot(column='funded_amnt', ax=axes[0, 0])\n",
    "lend_df.boxplot(column='loan_amnt', ax=axes[1, 0])\n",
    "lend_df.boxplot(column='int_rate', ax=axes[0, 1])\n",
    "lend_df.boxplot(column='installment', ax=axes[1, 1])\n",
    "plt.show()"
   ]
  },
  {
   "cell_type": "markdown",
   "metadata": {},
   "source": [
    "Creating X & Y"
   ]
  },
  {
   "cell_type": "code",
   "execution_count": null,
   "metadata": {},
   "outputs": [],
   "source": [
    "X = lend_df.values[:,:-1]\n",
    "Y = lend_df.values[:,-1]\n",
    "\n",
    "print(X)\n",
    "print(Y)\n"
   ]
  },
  {
   "cell_type": "code",
   "execution_count": null,
   "metadata": {},
   "outputs": [],
   "source": [
    "#Scaling data = prefer to do it if data has numerical columns more. If only categorical columns only no need to scale\n",
    "# MinMaxScaler() converts to range 0 to 1. StandardScaler() converts to -3 to +3\n",
    "\n",
    "from sklearn.preprocessing import StandardScaler\n",
    "\n",
    "scaler = StandardScaler()\n",
    "\n",
    "scaler.fit(X)\n",
    "\n",
    "X = scaler.transform(X)\n",
    "print(X)"
   ]
  },
  {
   "cell_type": "code",
   "execution_count": null,
   "metadata": {},
   "outputs": [],
   "source": [
    "Y=Y.astype(int) # converting Y\n",
    "Y.dtype"
   ]
  },
  {
   "cell_type": "markdown",
   "metadata": {},
   "source": [
    "Splitting Data File"
   ]
  },
  {
   "cell_type": "code",
   "execution_count": null,
   "metadata": {},
   "outputs": [],
   "source": [
    "from sklearn.model_selection import train_test_split\n",
    "#by default 70:30 ratio\n",
    "\n",
    "X_train, X_test, Y_train, Y_test = train_test_split(X, Y, test_size=0.3, random_state=10)\n",
    "print(Y_train)\n",
    "Y_train.dtype"
   ]
  },
  {
   "cell_type": "markdown",
   "metadata": {},
   "source": [
    "# Logistic Regression Model"
   ]
  },
  {
   "cell_type": "code",
   "execution_count": null,
   "metadata": {},
   "outputs": [],
   "source": [
    "from sklearn.linear_model import LogisticRegression\n",
    "\n",
    "#create a model\n",
    "classifier = LogisticRegression()\n",
    "#fitting and training the data\n",
    "classifier.fit(X_train, Y_train)\n",
    "#%%#\n",
    "#predecting test data on based of model\n",
    "Y_pred = classifier.predict(X_test)\n",
    "print(list(zip(Y_test,Y_pred)))\n",
    "#%%#\n"
   ]
  },
  {
   "cell_type": "code",
   "execution_count": null,
   "metadata": {},
   "outputs": [],
   "source": [
    "#Model evaluation\n",
    "from sklearn.metrics import confusion_matrix, accuracy_score, classification_report, recall_score, precision_score\n",
    "\n",
    "cfm=confusion_matrix(Y_test, Y_pred)\n",
    "print(cfm)\n",
    "\n",
    "print(\"Classification report: \")\n",
    "print(classification_report(Y_test, Y_pred))\n",
    "\n",
    "acc=accuracy_score(Y_test, Y_pred)\n",
    "print(\"Accuracy of the model is :\", acc)"
   ]
  },
  {
   "cell_type": "markdown",
   "metadata": {},
   "source": [
    "# RFE to choose best feature model and then predict"
   ]
  },
  {
   "cell_type": "code",
   "execution_count": null,
   "metadata": {},
   "outputs": [],
   "source": [
    "colname=lend_df.columns[:]\n",
    " \n",
    "from sklearn.feature_selection import RFE\n",
    "\n",
    "#nf = [5,10,15,20,25,30,35,40,45,50]\n",
    "nf = list(range(5,49,1))\n",
    "\n",
    "for num in nf:\n",
    "    rfe = RFE(classifier, num) #retain N variables at the end do logistic regression\n",
    "    model_rfe = rfe.fit(X_train, Y_train)\n",
    "    print(\"Num Features: \",model_rfe.n_features_) # features retained\n",
    "#    print(\"Selected Features: \")\n",
    "#    print(list(zip(colname, model_rfe.support_))) #true means column retained False dropped\n",
    "#    print(\"Feature Ranking: \", model_rfe.ranking_) # value 1 are indication cols retained. High value means dropped first at iteraion and so on\n",
    "    Y_pred = model_rfe.predict(X_test)\n",
    "    cfm2=confusion_matrix(Y_test, Y_pred)\n",
    "    print(cfm2)\n",
    "    print(\"Classification report: \")\n",
    "    print(classification_report(Y_test, Y_pred))\n",
    "    acc4=accuracy_score(Y_test, Y_pred)\n",
    "    print(\"Accuracy of the model is :\", acc4)\n",
    "\n",
    "print(\"Loop ends\")"
   ]
  },
  {
   "cell_type": "code",
   "execution_count": null,
   "metadata": {},
   "outputs": [],
   "source": [
    "# 38 is the best followed by 26 "
   ]
  },
  {
   "cell_type": "code",
   "execution_count": null,
   "metadata": {},
   "outputs": [],
   "source": [
    "colname=lend_df.columns[:]\n",
    " \n",
    "from sklearn.feature_selection import RFE\n",
    "\n",
    "rfe = RFE(classifier, 38) #retain N variables at the end do logistic regression\n",
    "model_rfe = rfe.fit(X_train, Y_train)\n",
    "print(\"Num Features: \",model_rfe.n_features_) # features retained\n",
    "print(\"Selected Features: \")\n",
    "print(list(zip(colname, model_rfe.support_))) #true means column retained False dropped\n",
    "print(\"Feature Ranking: \", model_rfe.ranking_) # value 1 are indication cols retained. High value means dropped first at iteraion and so on\n",
    "Y_pred = model_rfe.predict(X_test)\n",
    "cfm2=confusion_matrix(Y_test, Y_pred)\n",
    "print(cfm2)\n",
    "print(\"Classification report: \")\n",
    "print(classification_report(Y_test, Y_pred))\n",
    "acc4=accuracy_score(Y_test, Y_pred)\n",
    "print(\"Accuracy of the model is :\", acc4)"
   ]
  },
  {
   "cell_type": "code",
   "execution_count": null,
   "metadata": {},
   "outputs": [],
   "source": [
    "print(model_rfe.ranking_)"
   ]
  },
  {
   "cell_type": "code",
   "execution_count": null,
   "metadata": {},
   "outputs": [],
   "source": [
    "feat_selc = [0 for x in range(48)]\n",
    "i=j=0\n",
    "for x in model_rfe.ranking_:\n",
    "    if model_rfe.ranking_[j] == 1:\n",
    "        feat_selc[i] = colname[j]\n",
    "        i=i+1\n",
    "    j=j+1\n",
    "print(\"Loop ends\")"
   ]
  },
  {
   "cell_type": "code",
   "execution_count": null,
   "metadata": {},
   "outputs": [],
   "source": [
    "print(feat_selc)"
   ]
  },
  {
   "cell_type": "markdown",
   "metadata": {},
   "source": [
    "#Ensembling"
   ]
  },
  {
   "cell_type": "code",
   "execution_count": null,
   "metadata": {},
   "outputs": [],
   "source": [
    "from sklearn import model_selection\n",
    "from sklearn.linear_model import LogisticRegression\n",
    "from sklearn.tree import DecisionTreeClassifier\n",
    "from sklearn.svm import SVC\n",
    "from sklearn.ensemble import RandomForestClassifier\n",
    "from sklearn.ensemble import ExtraTreesClassifier\n",
    "from sklearn.ensemble import AdaBoostClassifier\n",
    "from sklearn.ensemble import GradientBoostingClassifier\n",
    "from sklearn.ensemble import VotingClassifier\n",
    "#%%#\n",
    "# create the sub models\n",
    "estimators = []\n",
    "seed = 7\n",
    "kfold = model_selection.KFold(n_splits=10, random_state=seed)"
   ]
  },
  {
   "cell_type": "code",
   "execution_count": null,
   "metadata": {},
   "outputs": [],
   "source": [
    "model1 = LogisticRegression()\n",
    "estimators.append(('log', model1))"
   ]
  },
  {
   "cell_type": "code",
   "execution_count": null,
   "metadata": {},
   "outputs": [],
   "source": [
    "model2 = DecisionTreeClassifier()\n",
    "estimators.append(('dt', model2))"
   ]
  },
  {
   "cell_type": "code",
   "execution_count": null,
   "metadata": {},
   "outputs": [],
   "source": [
    "model3 = SVC()\n",
    "estimators.append(('svm', model3))"
   ]
  },
  {
   "cell_type": "code",
   "execution_count": null,
   "metadata": {},
   "outputs": [],
   "source": [
    "model4 = RandomForestClassifier()\n",
    "estimators.append(('rf', model4))"
   ]
  },
  {
   "cell_type": "code",
   "execution_count": null,
   "metadata": {},
   "outputs": [],
   "source": [
    "model5 = ExtraTreesClassifier()\n",
    "estimators.append(('bag', model5))"
   ]
  },
  {
   "cell_type": "code",
   "execution_count": null,
   "metadata": {},
   "outputs": [],
   "source": [
    "model6 = AdaBoostClassifier(base_estimator=DecisionTreeClassifier())\n",
    "estimators.append(('adaBoost', model6))"
   ]
  },
  {
   "cell_type": "code",
   "execution_count": null,
   "metadata": {},
   "outputs": [],
   "source": [
    "model7 = GradientBoostingClassifier()\n",
    "estimators.append(('gbm', model7))"
   ]
  },
  {
   "cell_type": "code",
   "execution_count": null,
   "metadata": {},
   "outputs": [],
   "source": [
    "from sklearn.metrics import confusion_matrix, accuracy_score,classification_report\n",
    "\n",
    "for mod in [model1, model2, model3, model4, model5, model6, model7]:\n",
    "    ensemble = mod\n",
    "    ensemble.fit(X_train,Y_train)\n",
    "    Y_pred=ensemble.predict(X_test)\n",
    "    #confusion matrix\n",
    "    print(confusion_matrix(Y_test,Y_pred))\n",
    "    print(accuracy_score(Y_test,Y_pred))\n",
    "    print(classification_report(Y_test,Y_pred))\n",
    "print(\"Loop completes\")"
   ]
  },
  {
   "cell_type": "code",
   "execution_count": null,
   "metadata": {},
   "outputs": [],
   "source": [
    "# create the ensemble model\n",
    "ensemble = VotingClassifier(estimators)\n",
    "ensemble.fit(X_train,Y_train)\n",
    "Y_pred=ensemble.predict(X_test)\n",
    "#results = model_selection.cross_val_score(ensemble, X_train, Y_train, cv=kfold)\n",
    "#print(results.mean())"
   ]
  },
  {
   "cell_type": "code",
   "execution_count": null,
   "metadata": {},
   "outputs": [],
   "source": [
    "from sklearn.metrics import confusion_matrix, accuracy_score,classification_report\n",
    "#confusion matrix\n",
    "print(confusion_matrix(Y_test,Y_pred))\n",
    "print(accuracy_score(Y_test,Y_pred))\n",
    "print(classification_report(Y_test,Y_pred))"
   ]
  },
  {
   "cell_type": "code",
   "execution_count": null,
   "metadata": {},
   "outputs": [],
   "source": [
    "#ensemble.score(X_test,Y_test)"
   ]
  },
  {
   "cell_type": "code",
   "execution_count": null,
   "metadata": {},
   "outputs": [],
   "source": []
  }
 ],
 "metadata": {
  "kernelspec": {
   "display_name": "Python 3",
   "language": "python",
   "name": "python3"
  },
  "language_info": {
   "codemirror_mode": {
    "name": "ipython",
    "version": 3
   },
   "file_extension": ".py",
   "mimetype": "text/x-python",
   "name": "python",
   "nbconvert_exporter": "python",
   "pygments_lexer": "ipython3",
   "version": "3.7.1"
  }
 },
 "nbformat": 4,
 "nbformat_minor": 2
}
